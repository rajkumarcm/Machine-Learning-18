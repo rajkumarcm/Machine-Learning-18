{
 "cells": [
  {
   "cell_type": "code",
   "execution_count": 12,
   "metadata": {},
   "outputs": [
    {
     "data": {
      "text/plain": [
       "'-------------------------------------------------------\\nAuthor: Rajkumar Conjeevaram Mohan\\nEmail: rajkumarcm@yahoo.com\\nProgram: Expectation Maximization for coin flip program\\nDisclaimer: Data taken from \\nhttps://pdfs.semanticscholar.org/49a2/d769df4592fab60a324f3c6eed7e4a512a8c.pdf\\n-------------------------------------------------------'"
      ]
     },
     "execution_count": 12,
     "metadata": {},
     "output_type": "execute_result"
    }
   ],
   "source": [
    "\"\"\"-------------------------------------------------------\n",
    "Author: Rajkumar Conjeevaram Mohan\n",
    "Email: rajkumarcm@yahoo.com\n",
    "Program: Expectation Maximization for coin flip program\n",
    "Disclaimer: Data taken from \n",
    "https://pdfs.semanticscholar.org/49a2/d769df4592fab60a324f3c6eed7e4a512a8c.pdf\n",
    "-------------------------------------------------------\"\"\""
   ]
  },
  {
   "cell_type": "code",
   "execution_count": 2,
   "metadata": {},
   "outputs": [],
   "source": [
    "import numpy as np"
   ]
  },
  {
   "cell_type": "code",
   "execution_count": 3,
   "metadata": {},
   "outputs": [],
   "source": [
    "# Total number of coin flip under each experiment\n",
    "M = 10"
   ]
  },
  {
   "cell_type": "code",
   "execution_count": 4,
   "metadata": {},
   "outputs": [],
   "source": [
    "# Number of heads landed in each experiment\n",
    "heads = [5, 9, 8, 4, 7]"
   ]
  },
  {
   "cell_type": "code",
   "execution_count": 5,
   "metadata": {},
   "outputs": [],
   "source": [
    "# Number of tails landed in each experiment\n",
    "tails = np.array([M]*len(heads)) - np.array(heads)"
   ]
  },
  {
   "cell_type": "code",
   "execution_count": 6,
   "metadata": {},
   "outputs": [],
   "source": [
    "# Prior probability for each coin\n",
    "prior = [0.5, 0.5]"
   ]
  },
  {
   "cell_type": "code",
   "execution_count": 7,
   "metadata": {},
   "outputs": [],
   "source": [
    "# Initialise probability\n",
    "# This does not need to represent a distribution since\n",
    "# 0.4 represent 40% heads and 60% tails for coin A while\n",
    "# the same concept applies for the second coin\n",
    "prob = [0.6, 0.5]"
   ]
  },
  {
   "cell_type": "code",
   "execution_count": 8,
   "metadata": {},
   "outputs": [],
   "source": [
    "# N latent factors / hidden states\n",
    "n_coins = len(prior)"
   ]
  },
  {
   "cell_type": "code",
   "execution_count": 9,
   "metadata": {},
   "outputs": [],
   "source": [
    "# Number of iterations to run EM for.\n",
    "epochs = 10\n",
    "\n",
    "# P(Z|X)\n",
    "exp_z_x = np.zeros([n_coins, len(heads)]).astype(np.float32)"
   ]
  },
  {
   "cell_type": "code",
   "execution_count": 10,
   "metadata": {},
   "outputs": [],
   "source": [
    "for i in range(epochs):\n",
    "\n",
    "    # Expectation......\n",
    "    for i in range(len(heads)):\n",
    "        for k in range(n_coins):\n",
    "            exp_z_x[k, i] = prior[k] * prob[k]**heads[i] * (1-prob[k])**tails[i]\n",
    "            tmp = 0\n",
    "            for s_k in range(n_coins):\n",
    "                tmp += prior[s_k] * prob[s_k]**heads[i] * (1-prob[s_k])**tails[i]\n",
    "            exp_z_x[k, i] /= tmp\n",
    "\n",
    "    # Maximization.......\n",
    "    # Update the probability here\n",
    "    for k in range(len(prob)):\n",
    "        num = 0\n",
    "        den = 0\n",
    "        for i in range(len(heads)):\n",
    "            num += exp_z_x[k, i] * heads[i]\n",
    "            den += 10*exp_z_x[k, i]\n",
    "        prob[k] = num/den"
   ]
  },
  {
   "cell_type": "code",
   "execution_count": 11,
   "metadata": {},
   "outputs": [
    {
     "name": "stdout",
     "output_type": "stream",
     "text": [
      "prob: [0.8, 0.52]\n"
     ]
    }
   ],
   "source": [
    "prob = list(map(lambda x: round(x, 2), prob))\n",
    "print(\"prob: {}\".format(prob))"
   ]
  },
  {
   "cell_type": "code",
   "execution_count": null,
   "metadata": {},
   "outputs": [],
   "source": [
    "# The resulting probability matches with that "
   ]
  }
 ],
 "metadata": {
  "kernelspec": {
   "display_name": "Python 3",
   "language": "python",
   "name": "python3"
  },
  "language_info": {
   "codemirror_mode": {
    "name": "ipython",
    "version": 3
   },
   "file_extension": ".py",
   "mimetype": "text/x-python",
   "name": "python",
   "nbconvert_exporter": "python",
   "pygments_lexer": "ipython3",
   "version": "3.7.1"
  }
 },
 "nbformat": 4,
 "nbformat_minor": 2
}

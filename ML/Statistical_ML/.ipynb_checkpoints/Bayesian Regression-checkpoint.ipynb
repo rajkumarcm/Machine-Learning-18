{
 "cells": [
  {
   "cell_type": "markdown",
   "metadata": {},
   "source": [
    "# Bayesian Linear Regression"
   ]
  },
  {
   "cell_type": "code",
   "execution_count": 1,
   "metadata": {},
   "outputs": [],
   "source": [
    "import numpy as np\n",
    "from numpy.random import multivariate_normal\n",
    "from scipy.stats import multivariate_normal as m_norm\n",
    "from scipy.stats import norm\n",
    "from numpy.random import normal\n",
    "from data import load_data\n",
    "import matplotlib.pyplot as plt\n",
    "from ipywidgets import interact, interactive, fixed, interact_manual\n",
    "import ipywidgets as widgets"
   ]
  },
  {
   "cell_type": "code",
   "execution_count": 2,
   "metadata": {},
   "outputs": [],
   "source": [
    "X, y = load_data(\"weatherHistory.csv\", \"\\n\", \",\", target_col=4, numeric_target=True, ignore_cols=[0,1,2,3,6,7,8,9,11])"
   ]
  },
  {
   "cell_type": "markdown",
   "metadata": {},
   "source": [
    "Model can be defined as:\n",
    "\\begin{align}\n",
    "y & = X^{T}\\theta + \\varepsilon \\\\\n",
    "\\varepsilon & \\sim \\mathcal{N}(0,\\sigma^{2}) \\\\\n",
    "\\theta & \\sim \\mathcal{N}(m_{0},S_{0})\n",
    "\\end{align}"
   ]
  },
  {
   "cell_type": "code",
   "execution_count": 3,
   "metadata": {},
   "outputs": [],
   "source": [
    "N,M = X.shape\n",
    "\n",
    "# Parameters for prior on weight\n",
    "m0 = np.random.random([M,1])\n",
    "S0 = np.random.random([M,M])"
   ]
  },
  {
   "cell_type": "code",
   "execution_count": 4,
   "metadata": {},
   "outputs": [],
   "source": [
    "# Noise variance\n",
    "var = 0.1"
   ]
  },
  {
   "cell_type": "markdown",
   "metadata": {},
   "source": [
    "Posterior distribution over target variable can be predicted by:\n",
    "\n",
    "\\begin{align}\n",
    "p(y_{*}|X,y,x_{*}) & = \\int p(y_{*}|x_{*},\\theta) p(\\theta|X,y) d\\theta \\\\\n",
    "& = \\int \\mathcal{N}(y_{*}|X^{T}\\theta,\\sigma^{2}) \\mathcal{N}(\\theta|m_{N},S_{N}) d\\theta\n",
    "\\end{align}\n",
    "\n",
    "But there is a problem, we do not yet have $m_{N},S_{N}$ In order to compute these, we first transform posterior, which is defined as: \n",
    "\n",
    "\\begin{align}\n",
    "p(\\theta|X,y) = p(y|X,\\theta)p(\\theta)\n",
    "\\end{align}\n",
    "\n",
    "into log space, where we sum them and solve for these parameters using a procedure called \"Complete the squares\". \n",
    "PS: Normalisation constant in posterior is omitted to keep things simple. The result after performing completing squares would be:\n",
    "\n",
    "\\begin{align}\n",
    "S_{N} & = (\\sigma^{-2}X^{T}X + S_{0}^{-1})^{-1} \\\\\n",
    "m_{N} & = S_{N}(\\sigma^{-2}X^{T}y + S_{0}^{-1}m_{0})\n",
    "\\end{align}"
   ]
  },
  {
   "cell_type": "code",
   "execution_count": 5,
   "metadata": {},
   "outputs": [],
   "source": [
    "# Posterior parameters\n",
    "\n",
    "SN = np.linalg.inv(1/var * (X.T @ X) + np.linalg.inv(S0))\n",
    "mN = SN @ (1/var * (X.T @ y).reshape([-1,1]) + (np.linalg.inv(S0) @ m0))"
   ]
  },
  {
   "cell_type": "code",
   "execution_count": 6,
   "metadata": {},
   "outputs": [],
   "source": [
    "# MLE estimate\n",
    "\n",
    "W_mle = np.linalg.inv(X.T @ X) @ X.T @ y"
   ]
  },
  {
   "cell_type": "code",
   "execution_count": 7,
   "metadata": {},
   "outputs": [
    {
     "name": "stdout",
     "output_type": "stream",
     "text": [
      "\n",
      "W_mle: \n",
      "[-21.13877638   0.02760129]\n",
      "\n",
      "mN: \n",
      "[-21.13403311   0.02759786]\n",
      "\n"
     ]
    }
   ],
   "source": [
    "# Compare the mean parameter with MLE estimate\n",
    "\n",
    "print(\"\\nW_mle: \\n{}\\n\".format(W_mle))\n",
    "print(\"mN: \\n{}\\n\".format(mN.ravel()))"
   ]
  },
  {
   "cell_type": "code",
   "execution_count": 8,
   "metadata": {},
   "outputs": [],
   "source": [
    "def plot(N_samples=400):\n",
    "\n",
    "    # Now, lets sample parameters from posterior distribution\n",
    "    W = multivariate_normal(mean=mN.ravel(), cov=SN, size=[N_samples])\n",
    "    # W_density = np.zeros([N_samples,2])\n",
    "    # W_density[:,0] = norm.pdf(x=W[:,0], loc=mN[0,0], scale=SN[0,0])\n",
    "    # W_density[:,1] = norm.pdf(x=W[:,1], loc=mN[1,0], scale=SN[1,1])\n",
    "    \n",
    "    # Humidities constribution\n",
    "    plt.figure()\n",
    "    plt.xlabel(\"Contribution of Humidity to Apparent Temperature\")\n",
    "    plt.ylabel(\"Frequency\")\n",
    "    plt.hist(W[:,0],bins=30,rwidth=0.9)\n",
    "    # plt.bar(x=W[:,0],height=sample)\n",
    "    plt.axvline(x=mN[0,0],color=\"red\",linestyle=\"--\")\n",
    "    \n",
    "    # Pressure contribution\n",
    "    plt.figure()\n",
    "    plt.xlabel(\"Contribution of Pressure to Apparent Temperature\")\n",
    "    plt.ylabel(\"Frequency\")\n",
    "    plt.hist(W[:,1],bins=30,rwidth=0.9)\n",
    "    # plt.bar(x=W[:,0],height=sample)\n",
    "    plt.axvline(x=mN[1,0],color=\"red\",linestyle=\"--\")\n",
    "    plt.show()"
   ]
  },
  {
   "cell_type": "code",
   "execution_count": 9,
   "metadata": {},
   "outputs": [
    {
     "data": {
      "application/vnd.jupyter.widget-view+json": {
       "model_id": "24bcac49e76a4e649250f405b47bef5b",
       "version_major": 2,
       "version_minor": 0
      },
      "text/plain": [
       "interactive(children=(IntSlider(value=400, description='N_samples', max=1200, min=-400), Output()), _dom_class…"
      ]
     },
     "metadata": {},
     "output_type": "display_data"
    }
   ],
   "source": [
    "interact(plot, x=widgets.IntSlider(min=300,max=1000));"
   ]
  },
  {
   "cell_type": "markdown",
   "metadata": {},
   "source": [
    "We are now equipped with necessary information to proceed with predicting $y$. We defined posterior distribution over test target, given test input\n",
    "\n",
    "\\begin{align}\n",
    "\\mathop{\\mathbb{E}_{\\theta,\\varepsilon}}[y_{*}|X,y,x_{*}] & = \\mathop{\\mathbb{E}_{\\theta}}[X^{T}\\theta|X,y] \\\\\n",
    "& = x_{*}^{T}\\mathop{\\mathbb{E}_{\\theta}}[\\theta|X,y] + 0 \\\\\n",
    "& = x_{*}^{T}m_{N}\n",
    "\\end{align}\n",
    "\n",
    "\\begin{align}\n",
    "\\mathrm{Var}_{\\theta,\\varepsilon}[y_{*}|X,y,x_{*}] & = \\mathrm{Var}_{\\theta,\\varepsilon}[x_{*}^{T}\\theta+\\varepsilon|X,y] \\\\\n",
    "& = x_{*}^{T}\\mathrm{Var}_{\\theta}[\\theta|X,y]x_{*} + \\sigma^{2} \\\\\n",
    "& = x_{*}^{T}S_{N}x_{*} + \\sigma^{2}\n",
    "\\end{align}\n",
    "\n",
    "\\begin{align}\n",
    "p(y_{*}|X,y,x_{*}) & = \\int p(y_{*}|x_{*},\\theta) p(\\theta|X,y) d\\theta \\\\\n",
    "& = \\int \\mathcal{N}(y_{*}|X^{T}\\theta,\\sigma^{2}) \\mathcal{N}(\\theta|m_{N},S_{N}) d\\theta \\\\\n",
    "& = \\mathcal{N}(y_{*}|x_{*}^{T}m_{N},x_{*}^{T}S_{N}x_{*} + \\sigma^{2})\n",
    "\\end{align}"
   ]
  },
  {
   "cell_type": "code",
   "execution_count": 10,
   "metadata": {
    "scrolled": false
   },
   "outputs": [
    {
     "name": "stdout",
     "output_type": "stream",
     "text": [
      "7.015935312299598\n"
     ]
    },
    {
     "data": {
      "image/png": "[encoded data removed]",
      "text/plain": [
       "<Figure size 432x288 with 1 Axes>"
      ]
     },
     "metadata": {},
     "output_type": "display_data"
    }
   ],
   "source": [
    "test_index = np.random.randint(0,N)\n",
    "test_x = X[test_index]\n",
    "test_y = y[test_index]\n",
    "\n",
    "test_mean = test_x.T @ mN\n",
    "test_var = (test_x.T @ SN @ test_x) + var\n",
    "y_samples = normal(loc=test_mean, scale=test_var, size=[100])\n",
    "print(np.mean(y_samples))\n",
    "y_density = norm.pdf(x=y_samples, loc=test_mean, scale=test_var)\n",
    "plt.figure()\n",
    "plt.title(\"Predicted y = %.3f, Actual y = %.3f\"%(test_mean,test_y))\n",
    "plt.xlabel(\"y\")\n",
    "plt.ylabel(\"P(y*|X,y,x*)\")\n",
    "plt.bar(y_samples, height=y_density, align='edge', width=0.003)\n",
    "plt.axvline(x=test_mean, color=\"red\", linestyle=\"--\")\n",
    "plt.show()"
   ]
  },
  {
   "cell_type": "code",
   "execution_count": 156,
   "metadata": {},
   "outputs": [
    {
     "data": {
      "text/plain": [
       "0.10000834087820078"
      ]
     },
     "execution_count": 156,
     "metadata": {},
     "output_type": "execute_result"
    }
   ],
   "source": []
  },
  {
   "cell_type": "code",
   "execution_count": null,
   "metadata": {},
   "outputs": [],
   "source": []
  }
 ],
 "metadata": {
  "kernelspec": {
   "display_name": "Python 3",
   "language": "python",
   "name": "python3"
  },
  "language_info": {
   "codemirror_mode": {
    "name": "ipython",
    "version": 3
   },
   "file_extension": ".py",
   "mimetype": "text/x-python",
   "name": "python",
   "nbconvert_exporter": "python",
   "pygments_lexer": "ipython3",
   "version": "3.7.0"
  }
 },
 "nbformat": 4,
 "nbformat_minor": 2
}
